{
 "cells": [
  {
   "cell_type": "code",
   "execution_count": 13,
   "id": "3cd5ae74",
   "metadata": {},
   "outputs": [],
   "source": [
    "from sentence_transformers import SentenceTransformer\n",
    "import os\n",
    "from pathlib import Path\n",
    "import json"
   ]
  },
  {
   "cell_type": "code",
   "execution_count": null,
   "id": "88d88d66",
   "metadata": {},
   "outputs": [],
   "source": []
  },
  {
   "cell_type": "code",
   "execution_count": 14,
   "id": "4fe17d5d",
   "metadata": {},
   "outputs": [],
   "source": [
    "json_directory = \"/home/abhishek/abhi/medical/json_files/\""
   ]
  },
  {
   "cell_type": "code",
   "execution_count": null,
   "id": "e5843f0d",
   "metadata": {},
   "outputs": [],
   "source": []
  },
  {
   "cell_type": "code",
   "execution_count": 15,
   "id": "71b98771",
   "metadata": {},
   "outputs": [],
   "source": [
    "json_directory_with_all_MiniLM_L6_v2 = \"/home/abhishek/abhi/medical/json_directory_with_all_MiniLM_L6_v2/\""
   ]
  },
  {
   "cell_type": "code",
   "execution_count": null,
   "id": "b5a859d2",
   "metadata": {},
   "outputs": [],
   "source": []
  },
  {
   "cell_type": "code",
   "execution_count": 16,
   "id": "e78c996b",
   "metadata": {},
   "outputs": [],
   "source": [
    "Path(json_directory_with_all_MiniLM_L6_v2).mkdir(parents=True, exist_ok=True)\n"
   ]
  },
  {
   "cell_type": "code",
   "execution_count": 17,
   "id": "64595b01",
   "metadata": {},
   "outputs": [],
   "source": [
    "model = SentenceTransformer(\"all-MiniLM-L6-v2\")"
   ]
  },
  {
   "cell_type": "code",
   "execution_count": 18,
   "id": "58fee3de",
   "metadata": {},
   "outputs": [],
   "source": [
    "def get_new_json_filename(counter):\n",
    "    filename = os.path.join(json_directory_with_all_MiniLM_L6_v2, f\"output_with_embedding_{counter}.json\")\n",
    "    if not os.path.exists(filename):\n",
    "        with open(filename, \"w\") as new_file:\n",
    "            new_file.write(\"\")\n",
    "#     print(filename)\n",
    "    return filename\n"
   ]
  },
  {
   "cell_type": "code",
   "execution_count": 19,
   "id": "9cd15348",
   "metadata": {},
   "outputs": [],
   "source": [
    "pdf_files = []\n",
    "for root, dirs, files in os.walk(json_directory):\n",
    "    for file in files:\n",
    "        # Check if the file has a .pdf extension\n",
    "        if file.endswith(\".json\"):\n",
    "            # Construct the full path to the PDF file\n",
    "            pdf_path = os.path.join(root, file)\n",
    "            pdf_files.append(pdf_path)\n"
   ]
  },
  {
   "cell_type": "code",
   "execution_count": 20,
   "id": "cabbbc72",
   "metadata": {},
   "outputs": [],
   "source": [
    "# pdf_files"
   ]
  },
  {
   "cell_type": "code",
   "execution_count": null,
   "id": "a59fe315",
   "metadata": {},
   "outputs": [],
   "source": []
  },
  {
   "cell_type": "code",
   "execution_count": 22,
   "id": "5ab81dff",
   "metadata": {},
   "outputs": [],
   "source": [
    "# pdf_files"
   ]
  },
  {
   "cell_type": "code",
   "execution_count": null,
   "id": "95b74722",
   "metadata": {},
   "outputs": [],
   "source": [
    "json_file_counter = 0 \n",
    "json_list = []\n",
    "for file in pdf_files:\n",
    "    current_json_filename = get_new_json_filename(json_file_counter)\n",
    "    json_file_counter+=1\n",
    "    try:\n",
    "        with open(file, 'r') as f:\n",
    "            data = json.load(f)\n",
    "            for d in data:\n",
    "                data_to_append = {\n",
    "                \"text\": d[\"text\"],\n",
    "                \"embedding\":  model.encode(d[\"text\"]).tolist(),\n",
    "                \"page_no\": d[\"page_no\"],\n",
    "                \"filename\": d[\"filename\"],\n",
    "                }\n",
    "                json_list.append(data_to_append)\n",
    "\n",
    "    except:\n",
    "        print(file)\n",
    "    with open(current_json_filename, \"w\") as f:\n",
    "        json.dump(json_list, f)\n",
    "        json_file_counter += 1\n",
    "        current_json_filename = get_new_json_filename(json_file_counter)\n",
    "        json_list = []\n"
   ]
  },
  {
   "cell_type": "code",
   "execution_count": null,
   "id": "18829c3b",
   "metadata": {},
   "outputs": [],
   "source": []
  }
 ],
 "metadata": {
  "kernelspec": {
   "display_name": "Python 3 (ipykernel)",
   "language": "python",
   "name": "python3"
  },
  "language_info": {
   "codemirror_mode": {
    "name": "ipython",
    "version": 3
   },
   "file_extension": ".py",
   "mimetype": "text/x-python",
   "name": "python",
   "nbconvert_exporter": "python",
   "pygments_lexer": "ipython3",
   "version": "3.10.12"
  }
 },
 "nbformat": 4,
 "nbformat_minor": 5
}
